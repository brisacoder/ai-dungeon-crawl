{
 "cells": [
  {
   "cell_type": "markdown",
   "id": "92bc8779-4b70-44b0-aca6-291634b67531",
   "metadata": {},
   "source": [
    "\"\"\"\n",
    "Breadth-First Search (BFS) is a traversal algorithm for graphs and trees.\n",
    "It explores neighbors level by level.\n",
    "\n",
    "Used for:\n",
    "- Finding the shortest path in an unweighted graph\n",
    "- Level-order traversal in trees\n",
    "- Flood fill (e.g., in image processing)\n",
    "\n",
    "Core data structure: Queue (FIFO)\n",
    "\n",
    "This notebook is part of the portfolio project:\n",
    "🧭 \"Teaching an AI to Crawl Dungeons: Memory, Keys, and Doors with Deep Q-Learning\"\n",
    "\n",
    "We begin by building a BFS baseline to solve a gridworld maze, and later extend the environment into a dungeon-crawling scenario requiring sequential actions (e.g., collect key → open door → reach goal).\n",
    "\n",
    "Visual rendering is optimized for dark mode using custom colormaps and hatched wall patterns.\n",
    "\"\"\""
   ]
  },
  {
   "cell_type": "code",
   "execution_count": 42,
   "id": "241ac15d",
   "metadata": {},
   "outputs": [],
   "source": [
    "from collections import deque\n",
    "from enum import Enum, auto\n",
    "from matplotlib.colors import ListedColormap\n",
    "from matplotlib.patches import Rectangle\n",
    "import matplotlib.pyplot as plt\n",
    "import numpy as np\n",
    "import time\n",
    "import random\n",
    "from IPython.display import clear_output\n"
   ]
  },
  {
   "cell_type": "code",
   "execution_count": 43,
   "id": "348cf7d0-5689-4924-a1a6-e9bc6c7f3afa",
   "metadata": {},
   "outputs": [],
   "source": [
    "random.seed(42)\n",
    "np.random.seed(42)"
   ]
  },
  {
   "cell_type": "code",
   "execution_count": 44,
   "id": "18e4107e-24ae-4528-abda-7f514b2d4434",
   "metadata": {},
   "outputs": [],
   "source": [
    "class GridCellValues(Enum):\n",
    "    EMPTY=0\n",
    "    WALL=auto()\n",
    "    VISITED=auto()\n",
    "    GOAL=auto()\n",
    "    PATH=auto()   \n",
    "    START=auto()"
   ]
  },
  {
   "cell_type": "code",
   "execution_count": 51,
   "id": "b35404a4-d4c3-4c1e-af46-37c4a74c85d1",
   "metadata": {},
   "outputs": [],
   "source": [
    "# --------------------\n",
    "# Grid-based BFS Example (Shortest Path in Grid)\n",
    "# --------------------\n",
    "\n",
    "def render_grid(grid, delay=0.2):\n",
    "    clear_output(wait=True)\n",
    "    cmap = ListedColormap([\n",
    "        '#1e1e1e',  # 0 - empty (dark gray)\n",
    "        '#ff4c4c',  # 1 - wall (red)\n",
    "        '#4c91ff',  # 2 - visited (blue)\n",
    "        '#4cff4c',  # 3 - goal (green)\n",
    "        '#ffff4c'   # 4 - path (yellow)\n",
    "    ])\n",
    "    plt.figure(figsize=(5,5))\n",
    "    ax = plt.gca()\n",
    "    ax.imshow(grid, cmap=cmap, vmin=0, vmax=4)\n",
    "    start = np.argwhere(grid==GridCellValues.START.value)[0]\n",
    "    start_row, start_col = start[0], start[1]\n",
    "\n",
    "    rows, cols = grid.shape\n",
    "    for r in range(rows):\n",
    "        for c in range(cols):\n",
    "            if r == start_row and c == start_col:\n",
    "                ax.add_patch(Rectangle((c - 0.5, r - 0.5), 1, 1,\n",
    "                                       facecolor='none', edgecolor='white', linewidth=2))\n",
    "                ax.text(c, r, 'S', ha='center', va='center', fontsize=14, color='red')\n",
    "            elif grid[r][c] == GridCellValues.WALL.value:  # wall\n",
    "                rect = Rectangle((c - 0.5, r - 0.5), 1, 1,\n",
    "                                 linewidth=0,\n",
    "                                 edgecolor=None,\n",
    "                                 facecolor='none',\n",
    "                                 hatch='///')\n",
    "                ax.add_patch(rect)\n",
    "\n",
    "    plt.xticks([])\n",
    "    plt.yticks([])\n",
    "    plt.grid(False)\n",
    "    plt.show()\n",
    "    time.sleep(delay)\n"
   ]
  },
  {
   "cell_type": "code",
   "execution_count": 50,
   "id": "672fc831-54d3-46e2-8419-e29f983331b3",
   "metadata": {},
   "outputs": [],
   "source": [
    "\"\"\"\n",
    "Grid cell values:\n",
    "0 = empty\n",
    "1 = wall\n",
    "2 = visited\n",
    "3 = goal\n",
    "4 = final path\n",
    "\"\"\"\n",
    "\n",
    "def bfs_visual(grid):\n",
    "\n",
    "    # get starting position dynamically to avoid func parameters\n",
    "    start = np.argwhere(grid==GridCellValues.START.value)[0]\n",
    "    # Starting values\n",
    "    r, c = start[0], start[1]\n",
    "    \n",
    "    rows, cols = grid.shape[0], grid.shape[1]\n",
    "    visited = set()\n",
    "    queue = deque()\n",
    "    queue.append(start)\n",
    "    parent = dict()\n",
    "\n",
    "    directions = [(-1,0),(1,0),(0,-1),(0,1)]\n",
    "\n",
    "    while queue:\n",
    "        r, c = queue.popleft()\n",
    "\n",
    "        if (r, c) in visited:\n",
    "            continue\n",
    "        visited.add((r, c))\n",
    "\n",
    "        if grid[r][c] == GridCellValues.GOAL.value:\n",
    "            break\n",
    "\n",
    "        if grid[r][c] not in [GridCellValues.GOAL.value, GridCellValues.START.value]:\n",
    "            grid[r][c] = GridCellValues.VISITED.value  # mark as visited\n",
    "        render_grid(grid)\n",
    "\n",
    "        random.shuffle(directions)\n",
    "        for dr, dc in directions:\n",
    "            nr, nc = r + dr, c + dc\n",
    "            if 0 <= nr < rows and 0 <= nc < cols and grid[nr][nc] in [GridCellValues.EMPTY.value, GridCellValues.GOAL.value] and (nr, nc) not in visited:\n",
    "                parent[(nr, nc)] = (r, c)\n",
    "                queue.append((nr, nc))\n",
    "\n",
    "    # reconstruct path\n",
    "    path = []\n",
    "    # Goal\n",
    "    cur = (r, c)\n",
    "    while cur in parent:\n",
    "        path.append(cur)\n",
    "        cur = parent[cur]\n",
    "    for r, c in path:\n",
    "        if grid[r][c] not in [GridCellValues.GOAL.value, GridCellValues.START.value]:\n",
    "            grid[r][c] = GridCellValues.PATH.value\n",
    "        render_grid(grid)"
   ]
  },
  {
   "cell_type": "code",
   "execution_count": 47,
   "id": "8bce625b-9cd7-4688-a493-ee2ed210754e",
   "metadata": {},
   "outputs": [
    {
     "data": {
      "text/plain": [
       "'\\n- Always use a queue (FIFO) and a visited set.\\n- Great for shortest path in unweighted graphs.\\n- Suitable for exploring all nodes at depth `d` before `d+1`.\\n- For grid traversal, track row/column bounds and visited cells.\\n- Visualization can use imshow() to render grid states.\\n- Custom colormaps improve accessibility in dark mode.\\n- This baseline will later be extended into a dungeon with multi-step goal logic (e.g., collect items in order).\\n'"
      ]
     },
     "execution_count": 47,
     "metadata": {},
     "output_type": "execute_result"
    }
   ],
   "source": [
    "# --------------------\n",
    "# BFS Key Concepts Summary:\n",
    "# --------------------\n",
    "\n",
    "\"\"\"\n",
    "- Always use a queue (FIFO) and a visited set.\n",
    "- Great for shortest path in unweighted graphs.\n",
    "- Suitable for exploring all nodes at depth `d` before `d+1`.\n",
    "- For grid traversal, track row/column bounds and visited cells.\n",
    "- Visualization can use imshow() to render grid states.\n",
    "- Custom colormaps improve accessibility in dark mode.\n",
    "- This baseline will later be extended into a dungeon with multi-step goal logic (e.g., collect items in order).\n",
    "\"\"\""
   ]
  },
  {
   "cell_type": "code",
   "execution_count": 48,
   "id": "05ee3ac4-b053-47f4-a0f9-af4652f83da1",
   "metadata": {},
   "outputs": [],
   "source": [
    "grid = np.random.choice([0,1], (5,5), p=[0.7, 0.3])\n",
    "rows, cols = grid.shape\n",
    "goal_row, goal_col = np.random.randint(0, rows), np.random.randint(0, cols)\n",
    "grid[goal_row][goal_col] = GridCellValues.GOAL.value\n",
    "start_row, start_col = np.random.randint(0, rows), np.random.randint(0, cols)\n",
    "grid[start_row, start_col] = GridCellValues.START.value"
   ]
  },
  {
   "cell_type": "code",
   "execution_count": 49,
   "id": "c8eebc7d-0c4c-49aa-b505-5e5250f18ccc",
   "metadata": {},
   "outputs": [
    {
     "data": {
      "image/png": "[encoded data removed]",
      "text/plain": [
       "<Figure size 500x500 with 1 Axes>"
      ]
     },
     "metadata": {},
     "output_type": "display_data"
    }
   ],
   "source": [
    "bfs_visual(grid)"
   ]
  },
  {
   "cell_type": "code",
   "execution_count": null,
   "id": "a322f5db",
   "metadata": {},
   "outputs": [],
   "source": []
  }
 ],
 "metadata": {
  "kernelspec": {
   "display_name": "ai-dungeon-crawl",
   "language": "python",
   "name": "python3"
  },
  "language_info": {
   "codemirror_mode": {
    "name": "ipython",
    "version": 3
   },
   "file_extension": ".py",
   "mimetype": "text/x-python",
   "name": "python",
   "nbconvert_exporter": "python",
   "pygments_lexer": "ipython3",
   "version": "3.12.10"
  }
 },
 "nbformat": 4,
 "nbformat_minor": 5
}
